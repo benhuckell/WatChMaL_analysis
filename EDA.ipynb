{
 "cells": [
  {
   "cell_type": "code",
   "execution_count": 106,
   "metadata": {},
   "outputs": [],
   "source": [
    "import sys\n",
    "import os\n",
    "import h5py\n",
    "from collections import Counter\n",
    "from progressbar import *\n",
    "import re\n",
    "import numpy as np\n",
    "from scipy import signal\n",
    "import matplotlib.pyplot as plt\n",
    "from functools import reduce\n",
    "np.set_printoptions(threshold=sys.maxsize)"
   ]
  },
  {
   "cell_type": "code",
   "execution_count": 105,
   "metadata": {},
   "outputs": [
    {
     "name": "stdout",
     "output_type": "stream",
     "text": [
      "[ 0  1  2  3  4  5  6  7  8  9 10 11 12 13 14 15 16 17 18 19 20 21 22 23\n",
      " 24 25 26 27 28 29 30 31 32 33 34 35 36 37 38 39 40 41 42 43 44 45 46 47\n",
      " 48 49 50 51 52 53 54 55 56 57 58 59 60 61 62 63 64 65 66 67 68 69 70 71\n",
      " 72 73 74 75 76 77 78 79 80 81 82 83 84 85 86 87 88 89 90 91 92 93 94 95\n",
      " 96 97 98 99]\n",
      "[  0   1   2   3   4   5   6   7   8  10  11  13  14  15  16  17  18  19\n",
      "  20  21  22  23  24  25  26  27  28  29  30  31  32  33  34  35  36  37\n",
      "  38  39  40  41  42  43  44  45  46  47  48  49  50  51  52  53  54  55\n",
      "  56  57  59  60  63  64  65  67  68  69  70  71  72  73  74  75  76  77\n",
      "  78  79  80  81  82  83  84  85  86  87  88  89  91  92  93  94  95  96\n",
      "  97  98 100 101 102 103 104 105 106 107]\n"
     ]
    }
   ],
   "source": [
    "trueHitsPath = \"/fast_scratch/WatChMaL/data/IWCD_mPMT_Short_pi0_E0to1000MeV_truehits.h5\"\n",
    "digiHitsPath = \"/fast_scratch/WatChMaL/data/IWCD_mPMT_Short_pi0_E0to1000MeV_digihits.h5\"\n",
    "\n",
    "trueHitsFile = h5py.File(trueHitsPath,\"r\")\n",
    "digiHitsFile =h5py.File(digiHitsPath,\"r\")\n",
    "\n",
    "#Look at event ids\n",
    "trueEvents = trueHitsFile[\"event_ids\"]\n",
    "digiEvents = digiHitsFile[\"event_ids\"]\n",
    "\n",
    "print(trueEvents[:100])\n",
    "print(digiEvents[:100])"
   ]
  },
  {
   "cell_type": "code",
   "execution_count": 108,
   "metadata": {},
   "outputs": [
    {
     "name": "stdout",
     "output_type": "stream",
     "text": [
      "11865355642\n",
      "4607347439\n"
     ]
    }
   ],
   "source": [
    "#Load pmt hit information from both true source and digitized source\n",
    "\n",
    "trueHitPmt    = trueHitsFile[\"hit_pmt\"]\n",
    "trueHitTime   = trueHitsFile[\"hit_time\"]\n",
    "trueHitParent = trueHitsFile[\"hit_parent\"]\n",
    "\n",
    "digiHitPmt    = digiHitsFile[\"hit_pmt\"]\n",
    "digiHitTime   = digiHitsFile[\"hit_time\"]\n",
    "digiHitCharge = digiHitsFile[\"hit_charge\"]\n",
    "\n",
    "#Notice that there are more true hit pmts than digitized hit pmts\n",
    "#This is because they do not surpass the threshold\n",
    "print(len(trueHitPmt))\n",
    "print(len(digiHitPmt))"
   ]
  },
  {
   "cell_type": "code",
   "execution_count": 112,
   "metadata": {},
   "outputs": [
    {
     "name": "stdout",
     "output_type": "stream",
     "text": [
      "True hit # pmts:  1039\n",
      "Digitized hit # pmts:  925\n",
      "Comparison:  2590 2526.468\n",
      "925\n",
      "925\n"
     ]
    }
   ],
   "source": [
    "######## Analyse event 0 specifically ############\n",
    "\n",
    "#Find the ending true/digitize indices for event 0\n",
    "endDigiIndex = digiHitsFile[\"event_hits_index\"][1]\n",
    "endTrueIndex = trueHitsFile[\"event_hits_index\"][1]\n",
    "\n",
    "#Retrieve array of corresponding hit pmt's (indices will be different)\n",
    "digiHitPmt = digiHitsFile[\"hit_pmt\"][0:endDigiIndex]\n",
    "trueHitPmt = trueHitsFile[\"hit_pmt\"][0:endTrueIndex]\n",
    "\n",
    "#Vectorized operation to count the number of instances of each unique true hit pmt there are\n",
    "#This counts_elements array should very closely match up with the charge on the corresponding pmts\n",
    "unique_elements, counts_elements = np.unique(trueHitPmt, return_counts=True)\n",
    "\n",
    "#Check difference in true hit pmts vs digitized hit pmts\n",
    "print(\"True hit # pmts: \",len(unique_elements))\n",
    "print(\"Digitized hit # pmts: \",len(digiHitPmt))\n",
    "\n",
    "#Compare total charge across all pmts for true vs digitized cases\n",
    "trueSum = np.sum(counts_elements)\n",
    "digiSum = np.sum(digiHitsFile[\"hit_charge\"][0:endDigiIndex])\n",
    "\n",
    "print(\"Comparison: \",trueSum, digiSum)\n",
    "\n",
    "#We can sort and intersect the arrays to find only pmts that pass the criteria for digitized hits\n",
    "#Still needs work here to map correctly\n",
    "print(len(np.sort(digiHitPmt)))\n",
    "intersectionArr = np.intersect1d(digiHitPmt,unique_elements)\n",
    "print(len(intersectionArr)) #We notice that this is now the same as the digitized hits, down from true pmt number"
   ]
  },
  {
   "cell_type": "code",
   "execution_count": null,
   "metadata": {},
   "outputs": [],
   "source": []
  },
  {
   "cell_type": "code",
   "execution_count": null,
   "metadata": {},
   "outputs": [],
   "source": []
  }
 ],
 "metadata": {
  "kernelspec": {
   "display_name": "Python 3",
   "language": "python",
   "name": "python3"
  },
  "language_info": {
   "codemirror_mode": {
    "name": "ipython",
    "version": 3
   },
   "file_extension": ".py",
   "mimetype": "text/x-python",
   "name": "python",
   "nbconvert_exporter": "python",
   "pygments_lexer": "ipython3",
   "version": "3.6.10"
  }
 },
 "nbformat": 4,
 "nbformat_minor": 4
}
