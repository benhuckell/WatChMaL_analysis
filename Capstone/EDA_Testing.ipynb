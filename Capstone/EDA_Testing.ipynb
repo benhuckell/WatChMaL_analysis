{
 "cells": [
  {
   "cell_type": "code",
   "execution_count": 1,
   "metadata": {},
   "outputs": [],
   "source": [
    "import sys\n",
    "import os\n",
    "import h5py\n",
    "from collections import Counter\n",
    "from progressbar import *\n",
    "import re\n",
    "import numpy as np\n",
    "from scipy import signal\n",
    "import matplotlib.pyplot as plt\n",
    "from functools import reduce\n",
    "import matplotlib.pyplot as plt\n",
    "from collections import OrderedDict \n",
    "import time\n",
    "import datetime\n",
    "np.set_printoptions(threshold=sys.maxsize)\n",
    "np.set_printoptions(suppress=True)"
   ]
  },
  {
   "cell_type": "code",
   "execution_count": 2,
   "metadata": {},
   "outputs": [
    {
     "output_type": "stream",
     "name": "stdout",
     "text": [
      "3000000\n2868354\n[ 0  1  2  3  4  5  6  7  8  9 10 11 12 13 14 15 16 17 18 19]\n[ 0  1  2  3  4  5  6  7  8 10 11 13 14 15 16 17 18 19 20 21]\n[    0  2590  3436  5278  8446 13937 19338 21049 25581 26876 26922 30362\n 30655 30706 32859]\n"
     ]
    }
   ],
   "source": [
    "trueHitsPath = \"/fast_scratch/WatChMaL/data/IWCD_mPMT_Short_pi0_E0to1000MeV_truehits.h5\"\n",
    "digiHitsPath = \"/fast_scratch/WatChMaL/data/IWCD_mPMT_Short_pi0_E0to1000MeV_digihits.h5\"\n",
    "\n",
    "trueHitsFile = h5py.File(trueHitsPath,\"r\")\n",
    "digiHitsFile =h5py.File(digiHitsPath,\"r\")\n",
    "\n",
    "#Look at event ids\n",
    "n = 100000\n",
    "trueEvents = trueHitsFile[\"event_ids\"][:n]\n",
    "digiEvents = digiHitsFile[\"event_ids\"][:n]\n",
    "\n",
    "trueEventHits = trueHitsFile[\"event_hits_index\"][:n]\n",
    "digiEventHits = digiHitsFile[\"event_hits_index\"][:n]\n",
    "\n",
    "print(len(trueHitsFile[\"event_ids\"]))\n",
    "print(len(digiHitsFile[\"event_ids\"]))\n",
    "\n",
    "print(trueEvents[:20])\n",
    "print(digiEvents[:20])\n",
    "\n",
    "print(trueEventHits[:15])"
   ]
  },
  {
   "cell_type": "code",
   "execution_count": 8,
   "metadata": {},
   "outputs": [
    {
     "output_type": "stream",
     "name": "stdout",
     "text": [
      "[    0  2590  3436  5278  8446 13937 19338 21049 25581 26876 26922 30362\n",
      " 30655 30706 32859]\n",
      "[    0   925  1384  2506  3330  5958  7357  7738  9999 10660 11790 12012\n",
      " 12990 14817 16164]\n",
      "0\n",
      "50000\n",
      "100000\n",
      "done\n"
     ]
    }
   ],
   "source": [
    "####### Generate true hits offset array and digi hits offset array\n",
    "\n",
    "####Example (ignore)\n",
    "#trueHitIndices = [0, 80, 160, 240, 320, 400, 480, 560, 640, 720, 800 ]\n",
    "#digiHitIndices = [0, 100, 200, 300, 400, 500, 600, 700, 800, -1, 1000]\n",
    "\n",
    "#Alternative method is to remove the non-matching entry from truehit -> would not have to add -1 to digiHit\n",
    "\n",
    "#Specify number of events to run\n",
    "nEvents = 100000\n",
    "\n",
    "#Load arrays from h5 file\n",
    "\n",
    "trueEvents = trueHitsFile[\"event_ids\"][:nEvents]\n",
    "\n",
    "digiEvents = digiHitsFile[\"event_ids\"][:nEvents]\n",
    "\n",
    "trueEventHits = trueHitsFile[\"event_hits_index\"][:nEvents]\n",
    "\n",
    "digiEventHits = digiHitsFile[\"event_hits_index\"][:nEvents]\n",
    "\n",
    "print(trueEventHits[:15])\n",
    "print(digiEventHits[:15])\n",
    "\n",
    "#Make all event_ids unique (since they reset at 3000)\n",
    "#Changes them to a continous counted set (ie 1-nEvents)\n",
    "digiTemp = digiEvents\n",
    "for i in range(len(digiEvents)):\n",
    "    \n",
    "    #If next event is going to reset to 0, add 3000\n",
    "    if(i != 0 and digiEvents[i] < digiEvents[i-1]):\n",
    "        digiTemp[i:] = digiTemp[i:] + 3000\n",
    "        \n",
    "        \n",
    "#Create digitized hit offset array\n",
    "#Null entries are given a value of -1\n",
    "#The index of the entry corresponds to its event id (ie at index 10, we get the pmt hit offset value for event 10)\n",
    "digiHitsOffset = []\n",
    "\n",
    "#Loop through trueEvents, since there are no skips\n",
    "for i in range(len(trueEvents)):\n",
    "    \n",
    "    #Ignore - just for progress update purposes\n",
    "    if(i%50000 == 0):\n",
    "        print(i)\n",
    "        \n",
    "    #Try to find the index of the digi Event matching the true event\n",
    "    try:\n",
    "        index = np.where(digiTemp == i)[0][0]\n",
    "        digiHitsOffset.append(digiEventHits[index]) #Append this offsetvalue to an array\n",
    "    except:\n",
    "        digiHitsOffset.append(-1) #Append -1 if the digi event does not exist (means it was skipped)\n",
    " \n",
    "        \n",
    "print(len(digiHitsOffset))\n",
    "print(\"done\")\n",
    "\n",
    "#Uncomment this to save\n",
    "np.save('Datasets/digiHitsOffsetArrNew.npy', digiHitsOffset)\n",
    "        "
   ]
  },
  {
   "cell_type": "code",
   "execution_count": 15,
   "metadata": {},
   "outputs": [
    {
     "name": "stdout",
     "output_type": "stream",
     "text": [
      "11865355642\n",
      "4607347439\n"
     ]
    }
   ],
   "source": [
    "print(len(trueHitsFile[\"hit_pmt\"]))\n",
    "print(len(digiHitsFile[\"hit_pmt\"]))"
   ]
  },
  {
   "cell_type": "code",
   "execution_count": 3,
   "metadata": {},
   "outputs": [
    {
     "output_type": "stream",
     "name": "stdout",
     "text": [
      "1000\n",
      "Number of Events to save:  1000\n",
      "Looping...\n",
      "Event Progress:  0 / 1000\n",
      "Event Progress:  500 / 1000\n",
      "digiHitCharge length:  1552423\n",
      "trueHitsListLen length:  1552423\n",
      "Mean % error:  4.945 %\n",
      "[[0, 1, 2, 3, 4, 5, 6, 7, 8, 9, 10, 11, 12, 13, 14, 15, 16, 17, 18, 19, 20, 21, 22, 23, 24, 25, 26, 27, 28, 29, 30, 31, 32, 33, 34, 35, 36, 37, 38, 39, 40, 41, 42, 43, 44, 45, 46, 47, 48, 49, 50, 51, 52, 53, 54, 55, 56, 57, 58, 59, 60, 61, 62, 63, 64, 65, 66, 67, 68, 69, 70, 71, 72, 73, 74, 75, 76, 77, 78, 79, 80, 81, 82, 83, 84, 85, 86, 87, 88, 89, 90, 91, 92, 93], [94, 95, 96, 97, 98, 99, 100, 101, 102, 103, 104, 105, 106, 107, 108, 109, 110, 111, 112, 113, 114, 115, 116, 117, 118, 119, 120, 121, 122, 123], [124, 125, 126, 127, 128, 129, 130, 131, 132, 133, 134, 135, 136, 137, 138, 139, 140, 141, 142, 143, 144, 145, 146, 147, 148, 149, 150, 151, 152, 153, 154, 155, 156, 157, 158, 159, 160, 161, 162, 163, 164, 165, 166, 167, 168, 169, 170, 171, 172, 173, 174, 175, 176, 177, 178, 179, 180, 181, 182, 183, 184, 185, 186, 187, 188, 189, 190], [191, 192, 193, 194, 195, 196, 197, 198, 199, 200, 201], [202, 203, 204, 205], [206, 207], [208, 209, 210, 211, 212, 213, 214, 215, 216, 217, 218, 219, 220, 221, 222, 223, 224, 225, 226, 227, 228, 229], [230, 231, 232, 233, 234], [235, 236, 237, 238, 239, 240, 241, 242, 243, 244, 245], [246, 247, 248, 249, 250, 251, 252, 253, 254, 255, 256, 257, 258, 259, 260, 261, 262, 263, 264, 265, 266, 267, 268, 269, 270, 271]]\n",
      "[94, 30, 67, 11, 4, 2, 22, 5, 11, 26]\n"
     ]
    },
    {
     "output_type": "execute_result",
     "data": {
      "text/plain": [
       "\"\\n#Save the trueHitsList to an .npy file\\ntrueHitsList = np.array(trueHitsList)\\nnp.save('../Datasets/trueHitsListNew.npy', trueHitsList)\\n\""
      ]
     },
     "metadata": {},
     "execution_count": 3
    }
   ],
   "source": [
    "#### Run this to create list of lists #######\n",
    "\n",
    "#Chose number of events to run\n",
    "nEvents = 1000\n",
    "\n",
    "#Load event hit indices\n",
    "trueEventHits = trueHitsFile[\"event_hits_index\"][:nEvents]\n",
    "digiEventHits = digiHitsFile[\"event_hits_index\"][:nEvents]\n",
    "\n",
    "#Load in digitized hit offset array (created in previous step)\n",
    "digiArr = np.load(\"Datasets/digiHitsOffsetArr.npy\")\n",
    "digiArr = digiArr[:nEvents]\n",
    "print(len(digiArr))\n",
    "\n",
    "#Make sure array doesnt end with -1 (will cause issues in for loop below when splicing array)\n",
    "#This code reduces nEvents until the array does not end with a -1\n",
    "index = len(digiArr)-1\n",
    "while(index >= 0 and digiArr[index] == -1):\n",
    "    digiArr = digiArr[:-1]\n",
    "    nEvents -= 1\n",
    "    index -= 1\n",
    "    \n",
    "nDigiHits = digiArr[-1]\n",
    "nTrueHits = trueEventHits[nEvents-1]\n",
    "\n",
    "print(\"Number of Events to save: \", nEvents)\n",
    "\n",
    "trueEvents = trueHitsFile[\"event_ids\"][:nEvents]\n",
    "digiEvents = digiHitsFile[\"event_ids\"][:nEvents]\n",
    "\n",
    "trueHitPmt    = trueHitsFile[\"hit_pmt\"][:nTrueHits]\n",
    "trueHitTime   = trueHitsFile[\"hit_time\"][:nTrueHits]\n",
    "trueHitParent = trueHitsFile[\"hit_parent\"][:nTrueHits]\n",
    "\n",
    "digiHitPmt    = digiHitsFile[\"hit_pmt\"][:nDigiHits]\n",
    "digiHitTime   = digiHitsFile[\"hit_time\"][:nDigiHits]\n",
    "digiHitCharge = digiHitsFile[\"hit_charge\"][:nDigiHits]\n",
    "\n",
    "print(\"Looping...\")\n",
    "\n",
    "trueHitsList = []\n",
    "trueHitsListLen = []\n",
    "\n",
    "for i in range(nEvents-1):\n",
    "    if(i%500 == 0):\n",
    "        print(\"Event Progress: \",i,\"/\",nEvents)\n",
    "    \n",
    "    if(digiArr[i] == -1):\n",
    "        continue\n",
    "    \n",
    "    checkIndex = i+1\n",
    "    while(digiArr[checkIndex] == -1):\n",
    "        checkIndex += 1\n",
    "    \n",
    "    digiStartIndex = digiArr[i]\n",
    "    digiEndIndex = digiArr[checkIndex]\n",
    "    \n",
    "    trueStartIndex = trueEventHits[i]\n",
    "    trueEndIndex = trueEventHits[i+1]\n",
    "    \n",
    "    splicedDigiChargeArr = digiHitCharge[digiStartIndex:digiEndIndex]\n",
    "    splicedDigiPmtArr = digiHitPmt[digiStartIndex:digiEndIndex]\n",
    "    splicedTruePmtArr = trueHitPmt[trueStartIndex:trueEndIndex]\n",
    "    \n",
    "    #print(digiArr[i],\":\",digiEndIndex, \" \", trueEventHits[i],\":\",trueEventHits[i+1])\n",
    "    \n",
    "    for pmt in splicedDigiPmtArr:\n",
    "        hits = list(np.where(splicedTruePmtArr == pmt)[0]+trueStartIndex)\n",
    "        trueHitsList.append(hits)\n",
    "        trueHitsListLen.append(len(hits))\n",
    "        #print(len(hits),\":\", hits)\n",
    "        \n",
    "\n",
    "#print(trueHitsListLenArr)\n",
    "#print(digiHitCharge[:100])\n",
    "#print(trueHitsListLen[-100:])\n",
    "print(\"digiHitCharge length: \",len(digiHitCharge))\n",
    "print(\"trueHitsListLen length: \",len(trueHitsListLen))\n",
    "\n",
    "print(\"Mean % error: \",round(100*np.mean((digiHitCharge-trueHitsListLen)/trueHitsListLen),3),\"%\")\n",
    "\n",
    "print(trueHitsList[:10])\n",
    "\n",
    "print(trueHitsListLen[:10])\n",
    "       \n",
    "'''\n",
    "#Save the trueHitsList to an .npy file\n",
    "trueHitsList = np.array(trueHitsList)\n",
    "np.save('../Datasets/trueHitsListNew.npy', trueHitsList)\n",
    "'''\n"
   ]
  },
  {
   "cell_type": "code",
   "execution_count": 12,
   "metadata": {},
   "outputs": [
    {
     "name": "stderr",
     "output_type": "stream",
     "text": [
      "/opt/conda/lib/python3.6/site-packages/ipykernel_launcher.py:1: VisibleDeprecationWarning: Creating an ndarray from ragged nested sequences (which is a list-or-tuple of lists-or-tuples-or ndarrays with different lengths or shapes) is deprecated. If you meant to do this, you must specify 'dtype=object' when creating the ndarray\n",
      "  \"\"\"Entry point for launching an IPython kernel.\n"
     ]
    }
   ],
   "source": []
  },
  {
   "cell_type": "code",
   "execution_count": 11,
   "metadata": {},
   "outputs": [
    {
     "ename": "NameError",
     "evalue": "name 'trueHitsList' is not defined",
     "output_type": "error",
     "traceback": [
      "\u001b[0;31m---------------------------------------------------------------------------\u001b[0m",
      "\u001b[0;31mNameError\u001b[0m                                 Traceback (most recent call last)",
      "\u001b[0;32m<ipython-input-11-4159232e4e51>\u001b[0m in \u001b[0;36m<module>\u001b[0;34m\u001b[0m\n\u001b[1;32m      1\u001b[0m \u001b[0;31m#trueHitsList = np.load('../Datasets/trueHitsList.npy', allow_pickle = True)\u001b[0m\u001b[0;34m\u001b[0m\u001b[0;34m\u001b[0m\u001b[0;34m\u001b[0m\u001b[0m\n\u001b[0;32m----> 2\u001b[0;31m \u001b[0mprint\u001b[0m\u001b[0;34m(\u001b[0m\u001b[0mlen\u001b[0m\u001b[0;34m(\u001b[0m\u001b[0mtrueHitsList\u001b[0m\u001b[0;34m)\u001b[0m\u001b[0;34m)\u001b[0m\u001b[0;34m\u001b[0m\u001b[0;34m\u001b[0m\u001b[0m\n\u001b[0m\u001b[1;32m      3\u001b[0m \u001b[0mprint\u001b[0m\u001b[0;34m(\u001b[0m\u001b[0mtrueHitsListLen\u001b[0m\u001b[0;34m[\u001b[0m\u001b[0;34m:\u001b[0m\u001b[0;36m30\u001b[0m\u001b[0;34m]\u001b[0m\u001b[0;34m)\u001b[0m\u001b[0;34m\u001b[0m\u001b[0;34m\u001b[0m\u001b[0m\n",
      "\u001b[0;31mNameError\u001b[0m: name 'trueHitsList' is not defined"
     ]
    }
   ],
   "source": [
    "trueHitsList = np.load('../Datasets/trueHitsList.npy', allow_pickle = True)\n",
    "print(len(trueHitsList))\n",
    "print(trueHitsListLen[:30])"
   ]
  },
  {
   "cell_type": "code",
   "execution_count": 6,
   "metadata": {},
   "outputs": [
    {
     "name": "stdout",
     "output_type": "stream",
     "text": [
      "1000000\n",
      "[    0   925  1384  2506  3330  5958  7357  7738  9999    -1 10660 11790\n",
      "    -1 12012 12990]\n"
     ]
    }
   ],
   "source": [
    "#### Test loading array ####\n",
    "\n",
    "digiArr = np.load(\"digiHitsOffsetArr.npy\")\n",
    "digiArr = digiArr[100]\n",
    "\n",
    "print(len(digiArr))\n",
    "print(digiArr[:15])\n",
    "\n",
    "for i in range(len(digiArr)):\n",
    "    if(digiArr[i] == -1):\n",
    "        pass\n",
    "    \n",
    "    splicedArr = \n",
    "    \n",
    "    \n",
    "    \n",
    "    \n",
    "\n",
    "\n",
    "\n"
   ]
  },
  {
   "cell_type": "code",
   "execution_count": 33,
   "metadata": {},
   "outputs": [
    {
     "name": "stdout",
     "output_type": "stream",
     "text": [
      "11865355642\n",
      "4607347439\n"
     ]
    }
   ],
   "source": [
    "#Load pmt hit information from both true source and digitized source\n",
    "trueHitPmt    = trueHitsFile[\"hit_pmt\"]\n",
    "trueHitTime   = trueHitsFile[\"hit_time\"]\n",
    "trueHitParent = trueHitsFile[\"hit_parent\"]\n",
    "\n",
    "digiHitPmt    = digiHitsFile[\"hit_pmt\"]\n",
    "digiHitTime   = digiHitsFile[\"hit_time\"]\n",
    "digiHitCharge = digiHitsFile[\"hit_charge\"]\n",
    "\n",
    "#Notice that there are more true hit pmts than digitized hit pmts\n",
    "#This is because they do not surpass the threshold\n",
    "print(len(trueHitPmt))\n",
    "print(len(digiHitPmt))"
   ]
  },
  {
   "cell_type": "code",
   "execution_count": null,
   "metadata": {},
   "outputs": [],
   "source": []
  },
  {
   "cell_type": "code",
   "execution_count": 148,
   "metadata": {},
   "outputs": [
    {
     "name": "stdout",
     "output_type": "stream",
     "text": [
      "True hit # pmts:  1458\n",
      "Digitized hit # pmts:  1313\n",
      "Charge Comparison:  2251 2149.814\n",
      "1313\n"
     ]
    },
    {
     "data": {
      "image/png": "[encoded data removed]",
      "text/plain": [
       "<Figure size 1440x720 with 1 Axes>"
      ]
     },
     "metadata": {
      "needs_background": "light"
     },
     "output_type": "display_data"
    },
    {
     "name": "stdout",
     "output_type": "stream",
     "text": [
      "% Difference between true and digitzed charge:  28.189\n"
     ]
    }
   ],
   "source": [
    "######## Analyse a specific event ############\n",
    "\n",
    "## NOTE: pretty sure there is a bug here, when looking for the \"last event\"\n",
    "# there is a difference between true and digitized since digitized skips some events.\n",
    "# Need to clarify this before fixing.\n",
    "\n",
    "event = 76\n",
    "#Find the starting index\n",
    "digiIndex = np.where(digiEvents==event)[0][0]\n",
    "trueIndex = np.where(trueEvents==event)[0][0]\n",
    "startDigiIndex = digiHitsFile[\"event_hits_index\"][digiIndex]\n",
    "startTrueIndex = trueHitsFile[\"event_hits_index\"][trueIndex]\n",
    "\n",
    "#Find the ending true/digitize indices for each event\n",
    "endDigiIndex = digiHitsFile[\"event_hits_index\"][digiIndex+1]\n",
    "endTrueIndex = trueHitsFile[\"event_hits_index\"][trueIndex+1]\n",
    "\n",
    "#Retrieve array of corresponding hit pmt's (indices will be different)\n",
    "digiHitPmt = digiHitsFile[\"hit_pmt\"][startDigiIndex:endDigiIndex]\n",
    "trueHitPmt = trueHitsFile[\"hit_pmt\"][startTrueIndex:endTrueIndex]\n",
    "    \n",
    "#Vectorized operation to count the number of instances of each unique true hit pmt there are\n",
    "#This counts_elements array should very closely match up with the charge on the corresponding pmts\n",
    "uniqueElements, countsElements = np.unique(trueHitPmt, return_counts=True)\n",
    "\n",
    "#Check difference in true hit pmts vs digitized hit pmts\n",
    "print(\"True hit # pmts: \",len(uniqueElements))\n",
    "print(\"Digitized hit # pmts: \",len(digiHitPmt))\n",
    "\n",
    "#Compare total charge across all pmts for true vs digitized cases\n",
    "trueSum = np.sum(countsElements)\n",
    "digiSum = np.sum(digiHitsFile[\"hit_charge\"][startDigiIndex:endDigiIndex])\n",
    "\n",
    "print(\"Charge Comparison: \",trueSum, digiSum)\n",
    "\n",
    "#We can sort and intersect the arrays to find only pmts that pass the criteria for digitized hits\n",
    "#Still needs work here to map correctly\n",
    "intersectionArr = np.intersect1d(digiHitPmt,uniqueElements)\n",
    "print(len(intersectionArr)) #We notice that this is now the same as the digitized hits, down from true pmt number\n",
    "\n",
    "##### Create true and digi dictionaries #####\n",
    "digiHitCharge = digiHitsFile[\"hit_charge\"][startDigiIndex:endDigiIndex]\n",
    "\n",
    "#Digitized dictionary\n",
    "digiDict = dict(zip(digiHitPmt,digiHitCharge))\n",
    "digiDict = dict(sorted(digiDict.items())) \n",
    "#print(digiDict)\n",
    "#\n",
    "#True dictionary\n",
    "trueDict = dict(zip(uniqueElements,countsElements))\n",
    "trueDict = {x: trueDict[x] for x in digiDict.keys()}\n",
    "#print(trueDict)\n",
    "\n",
    "\n",
    "##### Plotting the first n pmts from a specific event #####\n",
    "\n",
    "# set width of bar\n",
    "barWidth = 0.25\n",
    "n = 60\n",
    "\n",
    "# Set position of bar on X axis\n",
    "r1 = np.arange(len(list(trueDict.values())[:n]))\n",
    "r2 = [x + barWidth for x in r1]\n",
    " \n",
    "# Make the plot\n",
    "plt.rcParams[\"figure.figsize\"] = (20,10)\n",
    "plt.bar(r1, list(trueDict.values())[:n], color='#7f6d5f', width=barWidth, edgecolor='white', label='True Charge')\n",
    "plt.bar(r2, list(digiDict.values())[:n], color='#557f2d', width=barWidth, edgecolor='white', label='Digitized Charge')\n",
    " \n",
    "# Add xticks on the middle of the group bars\n",
    "plt.xlabel('PMT', fontweight='bold')\n",
    "plt.xticks([r + barWidth for r in range(len(list(trueDict.keys())[:n]))], list(trueDict.keys())[:n])\n",
    " \n",
    "# Create legend & Show graphic\n",
    "plt.legend()\n",
    "plt.show()\n",
    "\n",
    "### Calculate the mean abs error % between true and digitized hits across all common pmts ###\n",
    "sumVals = 0\n",
    "for pmt in trueDict.keys():\n",
    "    sumVals += abs((trueDict[pmt]-digiDict[pmt])/trueDict[pmt])\n",
    "diff = sumVals/len(trueDict.keys())\n",
    "print(\"% Difference between true and digitzed charge: \", round(diff*100,3))"
   ]
  }
 ],
 "metadata": {
  "kernelspec": {
   "display_name": "Python 3",
   "language": "python",
   "name": "python3"
  },
  "language_info": {
   "codemirror_mode": {
    "name": "ipython",
    "version": 3
   },
   "file_extension": ".py",
   "mimetype": "text/x-python",
   "name": "python",
   "nbconvert_exporter": "python",
   "pygments_lexer": "ipython3",
   "version": "3.6.9-final"
  }
 },
 "nbformat": 4,
 "nbformat_minor": 4
}