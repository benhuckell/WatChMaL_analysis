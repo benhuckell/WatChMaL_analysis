{
 "cells": [
  {
   "cell_type": "code",
   "execution_count": 1,
   "metadata": {},
   "outputs": [],
   "source": [
    "import sys\n",
    "import os\n",
    "import h5py\n",
    "from collections import Counter\n",
    "from progressbar import *\n",
    "import re\n",
    "import numpy as np\n",
    "from scipy import signal\n",
    "import matplotlib.pyplot as plt\n",
    "from functools import reduce\n",
    "import matplotlib.pyplot as plt\n",
    "from collections import OrderedDict \n",
    "import time\n",
    "np.set_printoptions(threshold=sys.maxsize)"
   ]
  },
  {
   "cell_type": "code",
   "execution_count": 3,
   "metadata": {},
   "outputs": [
    {
     "data": {
      "text/plain": [
       "'\\nindex = np.where(digiEvents==10)[0][0]\\nprint(index)\\nprint(digiEvents[index])\\nprint(digiEvents[index-1])\\n\\nprint(len(trueEvents),len(digiEvents))\\nprint(trueEvents,digiEvents)\\n'"
      ]
     },
     "execution_count": 3,
     "metadata": {},
     "output_type": "execute_result"
    }
   ],
   "source": [
    "#Read in true hits and digitized hits\n",
    "trueHitsPath = \"/fast_scratch/WatChMaL/data/IWCD_mPMT_Short_pi0_E0to1000MeV_truehits.h5\"\n",
    "digiHitsPath = \"/fast_scratch/WatChMaL/data/IWCD_mPMT_Short_pi0_E0to1000MeV_digihits.h5\"\n",
    "\n",
    "trueHitsFile = h5py.File(trueHitsPath,\"r\")\n",
    "digiHitsFile =h5py.File(digiHitsPath,\"r\")\n",
    "\n",
    "#Load pmt hit information from both true source and digitized source\n",
    "trueHitPmt    = trueHitsFile[\"hit_pmt\"]\n",
    "trueHitTime   = trueHitsFile[\"hit_time\"]\n",
    "trueHitParent = trueHitsFile[\"hit_parent\"]\n",
    "\n",
    "digiHitPmt    = digiHitsFile[\"hit_pmt\"]\n",
    "digiHitTime   = digiHitsFile[\"hit_time\"]\n",
    "digiHitCharge = digiHitsFile[\"hit_charge\"]\n",
    "\n",
    "#Look at event ids\n",
    "ns = 0\n",
    "ne = 3000\n",
    "n = ne-ns\n",
    "trueEvents = trueHitsFile[\"event_ids\"][ns:ne]\n",
    "digiEvents = digiHitsFile[\"event_ids\"][ns:ne]\n",
    "\n",
    "\n",
    "'''\n",
    "index = np.where(digiEvents==10)[0][0]\n",
    "print(index)\n",
    "print(digiEvents[index])\n",
    "print(digiEvents[index-1])\n",
    "\n",
    "print(len(trueEvents),len(digiEvents))\n",
    "print(trueEvents,digiEvents)\n",
    "'''"
   ]
  },
  {
   "cell_type": "code",
   "execution_count": 147,
   "metadata": {},
   "outputs": [
    {
     "ename": "ZeroDivisionError",
     "evalue": "division by zero",
     "output_type": "error",
     "traceback": [
      "\u001b[0;31m---------------------------------------------------------------------------\u001b[0m",
      "\u001b[0;31mZeroDivisionError\u001b[0m                         Traceback (most recent call last)",
      "\u001b[0;32m<ipython-input-147-3fb3f0c65035>\u001b[0m in \u001b[0;36m<module>\u001b[0;34m\u001b[0m\n\u001b[1;32m     53\u001b[0m         \u001b[0msumAbsVals\u001b[0m \u001b[0;34m+=\u001b[0m \u001b[0mabs\u001b[0m\u001b[0;34m(\u001b[0m\u001b[0;34m(\u001b[0m\u001b[0mtrueDict\u001b[0m\u001b[0;34m[\u001b[0m\u001b[0mpmt\u001b[0m\u001b[0;34m]\u001b[0m\u001b[0;34m-\u001b[0m\u001b[0mdigiDict\u001b[0m\u001b[0;34m[\u001b[0m\u001b[0mpmt\u001b[0m\u001b[0;34m]\u001b[0m\u001b[0;34m)\u001b[0m\u001b[0;34m)\u001b[0m\u001b[0;34m\u001b[0m\u001b[0;34m\u001b[0m\u001b[0m\n\u001b[1;32m     54\u001b[0m \u001b[0;34m\u001b[0m\u001b[0m\n\u001b[0;32m---> 55\u001b[0;31m     \u001b[0merrorArr\u001b[0m\u001b[0;34m.\u001b[0m\u001b[0mappend\u001b[0m\u001b[0;34m(\u001b[0m\u001b[0msumVals\u001b[0m\u001b[0;34m/\u001b[0m\u001b[0mlen\u001b[0m\u001b[0;34m(\u001b[0m\u001b[0mtrueDict\u001b[0m\u001b[0;34m.\u001b[0m\u001b[0mkeys\u001b[0m\u001b[0;34m(\u001b[0m\u001b[0;34m)\u001b[0m\u001b[0;34m)\u001b[0m\u001b[0;34m)\u001b[0m\u001b[0;34m\u001b[0m\u001b[0;34m\u001b[0m\u001b[0m\n\u001b[0m\u001b[1;32m     56\u001b[0m     \u001b[0mabsErrorArr\u001b[0m\u001b[0;34m.\u001b[0m\u001b[0mappend\u001b[0m\u001b[0;34m(\u001b[0m\u001b[0msumAbsVals\u001b[0m\u001b[0;34m/\u001b[0m\u001b[0mlen\u001b[0m\u001b[0;34m(\u001b[0m\u001b[0mtrueDict\u001b[0m\u001b[0;34m.\u001b[0m\u001b[0mkeys\u001b[0m\u001b[0;34m(\u001b[0m\u001b[0;34m)\u001b[0m\u001b[0;34m)\u001b[0m\u001b[0;34m)\u001b[0m\u001b[0;34m\u001b[0m\u001b[0;34m\u001b[0m\u001b[0m\n\u001b[1;32m     57\u001b[0m     \u001b[0msumDiff\u001b[0m\u001b[0;34m.\u001b[0m\u001b[0mappend\u001b[0m\u001b[0;34m(\u001b[0m\u001b[0msumAbsVals\u001b[0m\u001b[0;34m)\u001b[0m\u001b[0;34m\u001b[0m\u001b[0;34m\u001b[0m\u001b[0m\n",
      "\u001b[0;31mZeroDivisionError\u001b[0m: division by zero"
     ]
    }
   ],
   "source": [
    "#### Loop through all events, log errors in array ####\n",
    "\n",
    "#Uses n events previously defined\n",
    "\n",
    "errorArr = []\n",
    "absErrorArr = []\n",
    "sumDiff = []\n",
    "lastEvent = ns\n",
    "\n",
    "#Note this is actually calculating the previous event\n",
    "#ie for event 15, we are actually analyzing the previous event since event_hits_index gives the starting index\n",
    "for event in digiEvents[1:]:\n",
    "    #print(event)\n",
    "    \n",
    "    #Find the starting index\n",
    "    startDigiIndex = digiHitsFile[\"event_hits_index\"][np.where(digiEvents==lastEvent)[0][0]]\n",
    "    startTrueIndex = trueHitsFile[\"event_hits_index\"][lastEvent]\n",
    "\n",
    "    #Find the ending true/digitize indices for each event\n",
    "    endDigiIndex = digiHitsFile[\"event_hits_index\"][np.where(digiEvents==event)[0][0]]\n",
    "    endTrueIndex = trueHitsFile[\"event_hits_index\"][event]\n",
    "\n",
    "    #Retrieve array of corresponding hit pmt's (indices will be different)\n",
    "    digiHitPmt = digiHitsFile[\"hit_pmt\"][startDigiIndex:endDigiIndex]\n",
    "    trueHitPmt = trueHitsFile[\"hit_pmt\"][startTrueIndex:endTrueIndex]\n",
    "    \n",
    "    #Vectorized operation to count the number of instances of each unique true hit pmt there are\n",
    "    #This counts_elements array should very closely match up with the charge on the corresponding pmts\n",
    "    uniqueElements, countsElements = np.unique(trueHitPmt, return_counts=True)\n",
    "    \n",
    "    #print(uniqueElements)\n",
    "    #print(digiHitPmt)\n",
    "    \n",
    "    #Retrieve array of charges for each hit pmt\n",
    "    digiHitCharge = digiHitsFile[\"hit_charge\"][startDigiIndex:endDigiIndex]\n",
    "\n",
    "    #Digitized dictionary\n",
    "    digiDict = dict(zip(digiHitPmt,digiHitCharge))\n",
    "    digiDict = dict(sorted(digiDict.items())) \n",
    "\n",
    "    #True dictionary\n",
    "    trueDict = dict(zip(uniqueElements,countsElements))\n",
    "    trueDict = {x: trueDict[x] for x in digiDict.keys()}\n",
    "    \n",
    "    #Set last event\n",
    "    lastEvent = event\n",
    "    \n",
    "    #Calculate the mean error and % error\n",
    "    sumVals = 0\n",
    "    sumAbsVals = 0\n",
    "    for pmt in trueDict.keys():\n",
    "        sumVals += abs((trueDict[pmt]-digiDict[pmt])/trueDict[pmt])\n",
    "        sumAbsVals += abs((trueDict[pmt]-digiDict[pmt]))\n",
    "\n",
    "    errorArr.append(sumVals/len(trueDict.keys()))\n",
    "    absErrorArr.append(sumAbsVals/len(trueDict.keys()))\n",
    "    sumDiff.append(sumAbsVals)\n",
    "\n",
    "#Print results\n",
    "meanAccuracy = round(np.mean(errorArr),3)\n",
    "meanAbsAccuracy = round(np.mean(absErrorArr),3)\n",
    "meanChargeDiff = round(np.mean(sumDiff),3)\n",
    "print(\"Mean accuracy: \",meanAccuracy)\n",
    "print(\"Mean abs accuracy: \", meanAbsAccuracy)\n",
    "print(\"Mean charge difference: \", meanChargeDiff)"
   ]
  },
  {
   "cell_type": "code",
   "execution_count": 141,
   "metadata": {},
   "outputs": [
    {
     "data": {
      "image/png": "[encoded data removed]",
      "text/plain": [
       "<Figure size 1080x504 with 1 Axes>"
      ]
     },
     "metadata": {
      "needs_background": "light"
     },
     "output_type": "display_data"
    }
   ],
   "source": [
    "### Plotting the error across all events\n",
    "\n",
    "# set width of bar\n",
    "barWidth = 0.25\n",
    "\n",
    "# Set position of bar on X axis\n",
    "r1 = np.arange(len(errorArr))\n",
    " \n",
    "# Make the plot\n",
    "plt.rcParams[\"figure.figsize\"] = (15,7)\n",
    "plt.bar(r1, errorArr, color='#3464eb', width=barWidth, edgecolor='white')\n",
    " \n",
    "# Add xticks on the middle of the group bars\n",
    "plt.xlabel('Event', fontweight='bold')\n",
    "plt.ylabel(\"Error %\")\n",
    "plt.axhline(y=meanAccuracy, color='r', linestyle='-')\n",
    "plt.text(n-1,meanAccuracy+(meanAccuracy/35),meanAccuracy,color='r')\n",
    "plt.title(\"Mean Abs PMT Error\")\n",
    "#plt.xticks([r + barWidth for r in range(len(errorArr))], digiEvents[1:])\n",
    " \n",
    "# Create legend & Show graphic\n",
    "\n",
    "plt.show()"
   ]
  },
  {
   "cell_type": "code",
   "execution_count": 120,
   "metadata": {},
   "outputs": [
    {
     "data": {
      "image/png": "[encoded data removed]",
      "text/plain": [
       "<Figure size 1080x504 with 1 Axes>"
      ]
     },
     "metadata": {
      "needs_background": "light"
     },
     "output_type": "display_data"
    }
   ],
   "source": [
    "### Plotting the error across all events\n",
    "\n",
    "# set width of bar\n",
    "barWidth = 0.25\n",
    "\n",
    "# Set position of bar on X axis\n",
    "r1 = np.arange(len(errorArr))\n",
    " \n",
    "# Make the plot\n",
    "plt.rcParams[\"figure.figsize\"] = (15,7)\n",
    "plt.bar(r1, absErrorArr, color='#3464eb', width=barWidth, edgecolor='white')\n",
    " \n",
    "# Add xticks on the middle of the group bars\n",
    "plt.xlabel('Event', fontweight='bold')\n",
    "plt.ylabel(\"Absolute Error\")\n",
    "plt.axhline(y=meanAbsAccuracy, color='r', linestyle='-')\n",
    "plt.text(n-1,meanAbsAccuracy+(meanAbsAccuracy/35),meanAbsAccuracy,color='r')\n",
    "plt.title(\"Mean Abs PMT Error\")\n",
    "#plt.xticks([r + barWidth for r in range(len(errorArr))], digiEvents[1:])\n",
    " \n",
    "# Create legend & Show graphic\n",
    "\n",
    "plt.show()"
   ]
  },
  {
   "cell_type": "code",
   "execution_count": 121,
   "metadata": {},
   "outputs": [
    {
     "data": {
      "image/png": "[encoded data removed]",
      "text/plain": [
       "<Figure size 1080x504 with 1 Axes>"
      ]
     },
     "metadata": {
      "needs_background": "light"
     },
     "output_type": "display_data"
    }
   ],
   "source": [
    "### Plotting the error across all events\n",
    "\n",
    "# set width of bar\n",
    "barWidth = 0.25\n",
    "\n",
    "# Set position of bar on X axis\n",
    "r1 = np.arange(len(sumDiff))\n",
    " \n",
    "# Make the plot\n",
    "plt.rcParams[\"figure.figsize\"] = (15,7)\n",
    "plt.bar(r1, sumDiff, color='#3464eb', width=barWidth, edgecolor='white')\n",
    " \n",
    "# Add xticks on the middle of the group bars\n",
    "plt.xlabel('Event', fontweight='bold')\n",
    "plt.ylabel(\"Absolute Error\")\n",
    "plt.axhline(y=meanChargeDiff, color='r', linestyle='-')\n",
    "plt.text(n-1,meanChargeDiff+(meanChargeDiff/35),meanChargeDiff,color='r')\n",
    "plt.title(\"Total Charge Error\")\n",
    "#plt.xticks([r + barWidth for r in range(len(errorArr))], digiEvents[1:])\n",
    " \n",
    "# Create legend & Show graphic\n",
    "\n",
    "plt.show()"
   ]
  },
  {
   "cell_type": "code",
   "execution_count": null,
   "metadata": {},
   "outputs": [],
   "source": []
  }
 ],
 "metadata": {
  "kernelspec": {
   "display_name": "Python 3",
   "language": "python",
   "name": "python3"
  },
  "language_info": {
   "codemirror_mode": {
    "name": "ipython",
    "version": 3
   },
   "file_extension": ".py",
   "mimetype": "text/x-python",
   "name": "python",
   "nbconvert_exporter": "python",
   "pygments_lexer": "ipython3",
   "version": "3.6.10"
  }
 },
 "nbformat": 4,
 "nbformat_minor": 4
}
