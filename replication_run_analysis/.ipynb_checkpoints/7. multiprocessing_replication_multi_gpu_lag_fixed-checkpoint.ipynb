{
 "cells": [
  {
   "cell_type": "code",
   "execution_count": 1,
   "metadata": {},
   "outputs": [],
   "source": [
    "%load_ext autoreload\n",
    "%matplotlib inline\n",
    "%autoreload 2"
   ]
  },
  {
   "cell_type": "code",
   "execution_count": 2,
   "metadata": {},
   "outputs": [],
   "source": [
    "import numpy as np\n",
    "import matplotlib.pyplot as plt\n",
    "import os\n",
    "import sys\n"
   ]
  },
  {
   "cell_type": "code",
   "execution_count": 3,
   "metadata": {
    "tags": []
   },
   "outputs": [
    {
     "ename": "ModuleNotFoundError",
     "evalue": "No module named 'analysis'",
     "output_type": "error",
     "traceback": [
      "\u001b[0;31m---------------------------------------------------------------------------\u001b[0m",
      "\u001b[0;31mModuleNotFoundError\u001b[0m                       Traceback (most recent call last)",
      "\u001b[0;32m<ipython-input-3-5724997215fe>\u001b[0m in \u001b[0;36m<module>\u001b[0;34m\u001b[0m\n\u001b[1;32m      2\u001b[0m \u001b[0msys\u001b[0m\u001b[0;34m.\u001b[0m\u001b[0mpath\u001b[0m\u001b[0;34m.\u001b[0m\u001b[0mappend\u001b[0m\u001b[0;34m(\u001b[0m\u001b[0;34m\"..\"\u001b[0m\u001b[0;34m)\u001b[0m\u001b[0;34m\u001b[0m\u001b[0;34m\u001b[0m\u001b[0m\n\u001b[1;32m      3\u001b[0m \u001b[0;34m\u001b[0m\u001b[0m\n\u001b[0;32m----> 4\u001b[0;31m \u001b[0;32mfrom\u001b[0m \u001b[0mWatChMaL\u001b[0m\u001b[0;34m.\u001b[0m\u001b[0manalysis\u001b[0m\u001b[0;34m.\u001b[0m\u001b[0mmulti_plot_utils\u001b[0m \u001b[0;32mimport\u001b[0m \u001b[0mmulti_disp_learn_hist\u001b[0m\u001b[0;34m,\u001b[0m \u001b[0mmulti_compute_roc\u001b[0m\u001b[0;34m,\u001b[0m \u001b[0mmulti_plot_roc\u001b[0m\u001b[0;34m\u001b[0m\u001b[0;34m\u001b[0m\u001b[0m\n\u001b[0m\u001b[1;32m      5\u001b[0m \u001b[0;32mfrom\u001b[0m \u001b[0mWatChMaL\u001b[0m\u001b[0;34m.\u001b[0m\u001b[0manalysis\u001b[0m\u001b[0;34m.\u001b[0m\u001b[0mcomparison_utils\u001b[0m \u001b[0;32mimport\u001b[0m \u001b[0mmulti_get_masked_data\u001b[0m\u001b[0;34m,\u001b[0m \u001b[0mmulti_collapse_test_output\u001b[0m\u001b[0;34m\u001b[0m\u001b[0;34m\u001b[0m\u001b[0m\n\u001b[1;32m      6\u001b[0m \u001b[0;34m\u001b[0m\u001b[0m\n",
      "\u001b[0;32m~/WatChMaL/analysis/multi_plot_utils.py\u001b[0m in \u001b[0;36m<module>\u001b[0;34m\u001b[0m\n\u001b[1;32m      7\u001b[0m \u001b[0;32mfrom\u001b[0m \u001b[0msklearn\u001b[0m\u001b[0;34m.\u001b[0m\u001b[0mmetrics\u001b[0m \u001b[0;32mimport\u001b[0m \u001b[0mauc\u001b[0m\u001b[0;34m\u001b[0m\u001b[0;34m\u001b[0m\u001b[0m\n\u001b[1;32m      8\u001b[0m \u001b[0;34m\u001b[0m\u001b[0m\n\u001b[0;32m----> 9\u001b[0;31m \u001b[0;32mfrom\u001b[0m \u001b[0manalysis\u001b[0m\u001b[0;34m.\u001b[0m\u001b[0mplot_utils\u001b[0m \u001b[0;32mimport\u001b[0m \u001b[0mcompute_roc\u001b[0m\u001b[0;34m,\u001b[0m \u001b[0mplot_roc\u001b[0m\u001b[0;34m,\u001b[0m \u001b[0mdisp_learn_hist\u001b[0m\u001b[0;34m\u001b[0m\u001b[0;34m\u001b[0m\u001b[0m\n\u001b[0m\u001b[1;32m     10\u001b[0m \u001b[0;34m\u001b[0m\u001b[0m\n\u001b[1;32m     11\u001b[0m \u001b[0;32mdef\u001b[0m \u001b[0mmulti_disp_learn_hist\u001b[0m\u001b[0;34m(\u001b[0m\u001b[0mlocations\u001b[0m\u001b[0;34m,\u001b[0m\u001b[0mlosslim\u001b[0m\u001b[0;34m=\u001b[0m\u001b[0;32mNone\u001b[0m\u001b[0;34m,\u001b[0m\u001b[0mshow\u001b[0m\u001b[0;34m=\u001b[0m\u001b[0;32mTrue\u001b[0m\u001b[0;34m,\u001b[0m\u001b[0mtitles\u001b[0m\u001b[0;34m=\u001b[0m\u001b[0;32mNone\u001b[0m\u001b[0;34m,\u001b[0m\u001b[0mbest_only\u001b[0m\u001b[0;34m=\u001b[0m\u001b[0;32mFalse\u001b[0m\u001b[0;34m,\u001b[0m\u001b[0mleg_font\u001b[0m\u001b[0;34m=\u001b[0m\u001b[0;36m10\u001b[0m\u001b[0;34m,\u001b[0m\u001b[0mtitle_font\u001b[0m\u001b[0;34m=\u001b[0m\u001b[0;36m10\u001b[0m\u001b[0;34m,\u001b[0m\u001b[0mxmax\u001b[0m\u001b[0;34m=\u001b[0m\u001b[0;32mNone\u001b[0m\u001b[0;34m)\u001b[0m\u001b[0;34m:\u001b[0m\u001b[0;34m\u001b[0m\u001b[0;34m\u001b[0m\u001b[0m\n",
      "\u001b[0;31mModuleNotFoundError\u001b[0m: No module named 'analysis'"
     ]
    }
   ],
   "source": [
    "#sys.path.append(\"../..\")\n",
    "sys.path.append(\"..\")\n",
    "\n",
    "from WatChMaL.analysis.multi_plot_utils import multi_disp_learn_hist, multi_compute_roc, multi_plot_roc\n",
    "from WatChMaL.analysis.comparison_utils import multi_get_masked_data, multi_collapse_test_output\n",
    "\n",
    "from test_utils import load_test_output_pn\n"
   ]
  },
  {
   "cell_type": "code",
   "execution_count": null,
   "metadata": {},
   "outputs": [],
   "source": [
    "%load_ext autoreload\n",
    "%matplotlib inline\n",
    "%autoreload 2"
   ]
  },
  {
   "cell_type": "code",
   "execution_count": null,
   "metadata": {},
   "outputs": [],
   "source": [
    "############# define plotting params #############\n",
    "c = plt.rcParams['axes.prop_cycle'].by_key()['color']\n",
    "label_dict = {\"$\\gamma$\":0, \"$e$\":1, \"$\\mu$\":2}\n",
    "inverse_label_dict = {0:\"$\\gamma$\", 1:\"$e$\", 2:\"$\\mu$\"}"
   ]
  },
  {
   "cell_type": "code",
   "execution_count": null,
   "metadata": {},
   "outputs": [],
   "source": [
    "############# define run locations #############\n",
    "mp_locs = ['/home/jtindall/WatChMaL/outputs/2020-12-14/14-35-06/outputs',\n",
    "          ]\n",
    "\n",
    "mp_titles = ['MP Framework Multi GPU Lag Fix Run 1'\n",
    "        ]\n",
    "\n",
    "new_locs = ['/home/jtindall/new_framework_replication/new_frame_single_gpu_replication/1_gpu_run_1/outputs',\n",
    "            '/home/jtindall/new_framework_replication/new_frame_single_gpu_replication/1_gpu_run_2/outputs',\n",
    "            '/home/jtindall/new_framework_replication/new_frame_single_gpu_replication/1_gpu_run_3/outputs',\n",
    "            '/home/jtindall/new_framework_replication/new_frame_single_gpu_replication/1_gpu_run_4/outputs',\n",
    "            '/home/jtindall/new_framework_replication/new_frame_single_gpu_replication/1_gpu_run_5/outputs',\n",
    "            '/home/jtindall/new_framework_replication/new_frame_single_gpu_replication/1_gpu_run_6/outputs',\n",
    "            '/home/jtindall/new_framework_replication/new_frame_single_gpu_replication/1_gpu_run_7/outputs',\n",
    "            '/home/jtindall/new_framework_replication/new_frame_single_gpu_replication/1_gpu_run_8/outputs',\n",
    "            '/home/jtindall/new_framework_replication/new_frame_single_gpu_replication/1_gpu_run_9/outputs',\n",
    "            '/home/jtindall/new_framework_replication/new_frame_single_gpu_replication/1_gpu_run_10/outputs'\n",
    "           ]\n",
    "\n",
    "new_titles = ['Pre-MP Framework Single GPU Run 1',\n",
    "              'Pre-MP Framework Single GPU Run 2',\n",
    "              'Pre-MP Framework Single GPU Run 3',\n",
    "              'Pre-MP Framework Single GPU Run 4',\n",
    "              'Pre-MP Framework Single GPU Run 5',\n",
    "              'Pre-MP Framework Single GPU Run 6',\n",
    "              'Pre-MP Framework Single GPU Run 7',\n",
    "              'Pre-MP Framework Single GPU Run 8',\n",
    "              'Pre-MP Framework Single GPU Run 9',\n",
    "              'Pre-MP Framework Single GPU Run 10',\n",
    "             ]\n",
    "\n",
    "\"\"\"\n",
    "new_linecolor = [c[0],c[1],c[2],c[3],c[4],c[5],c[6],c[7],c[8],c[9]]\n",
    "new_linestyle = ['--','--','--','--','--','--','--','--','--','--']\n",
    "\n",
    "old_linecolor = [c[0],c[1],c[2],c[3],c[4],c[5],c[6],c[7]]\n",
    "old_linestyle = [':',':',':',':',':',':',':',':']\n",
    "\"\"\"\n",
    "\n",
    "mp_linecolor = [c[0] for _ in mp_locs]\n",
    "mp_linestyle = ['--' for _ in mp_locs]\n",
    "\n",
    "new_linecolor = [c[1] for _ in new_locs]\n",
    "new_linestyle = [':' for _ in new_locs]\n",
    "\n",
    "locs = mp_locs + new_locs\n",
    "titles = mp_titles + new_titles\n",
    "linecolor = mp_linecolor + new_linecolor\n",
    "linestyle = mp_linestyle + new_linestyle\n"
   ]
  },
  {
   "cell_type": "code",
   "execution_count": null,
   "metadata": {},
   "outputs": [],
   "source": [
    "fig = multi_disp_learn_hist(mp_locs,losslim=2.5,titles=titles,leg_font=15, title_font=15,xmax=20)"
   ]
  },
  {
   "cell_type": "code",
   "execution_count": null,
   "metadata": {},
   "outputs": [],
   "source": [
    "############# load new run data #############\n",
    "idx_file_path = '/fast_scratch/WatChMaL/data/IWCD_fulltank_300_post_veto_nomichel_pe_idxs.npz'\n",
    "indices = np.load(idx_file_path)['test_idxs']\n",
    "\n",
    "cut_path = '/home/jtindall/indices/pointnet_cut_indices.npz'\n",
    "\n",
    "cuts_to_apply= ['fq_failed', 'fq_flag']\n",
    "\n",
    "#mp_raw_predicted_labels = [np.load(loc + \"/predictions.npy\") for loc in mp_locs]\n",
    "mp_raw_output_softmax   = [np.load(loc + \"/softmax.npy\") for loc in mp_locs]\n",
    "mp_raw_actual_labels    = [np.load(loc + \"/labels.npy\") for loc in mp_locs]"
   ]
  },
  {
   "cell_type": "code",
   "execution_count": null,
   "metadata": {},
   "outputs": [],
   "source": [
    "############# load old run data #############\n",
    "\n",
    "new_outputs = [load_test_output_pn(os.path.join(loc,'test_validation_iteration_dump.npz'),\n",
    "                                   cut_path,\n",
    "                                   np.load(idx_file_path)['test_idxs'], cut_list=[])\n",
    "               for i, loc in enumerate(new_locs)]\n",
    "\n",
    "new_raw_output_softmax   = [output[\"softmax\"] for output in new_outputs]\n",
    "new_raw_actual_labels    = [output[\"labels\"] for output in new_outputs]\n",
    "#new_raw_predicted_labels = [output[\"predictions\"] for output in new_outputs]"
   ]
  },
  {
   "cell_type": "code",
   "execution_count": null,
   "metadata": {},
   "outputs": [],
   "source": [
    "############# combine run data #############\n",
    "#raw_predicted_labels = mp_raw_predicted_labels + new_raw_predicted_labels\n",
    "raw_output_softmax   = mp_raw_output_softmax + new_raw_output_softmax\n",
    "raw_actual_labels    = mp_raw_actual_labels + new_raw_actual_labels"
   ]
  },
  {
   "cell_type": "code",
   "execution_count": null,
   "metadata": {},
   "outputs": [],
   "source": [
    "############# apply cuts to data #############\n",
    "#predicted_labels = multi_get_masked_data(raw_predicted_labels, cut_path, indices, cuts_to_apply)\n",
    "output_softmax   = multi_get_masked_data(raw_output_softmax, cut_path, indices, cuts_to_apply)\n",
    "actual_labels    = multi_get_masked_data(raw_actual_labels, cut_path, indices, cuts_to_apply)"
   ]
  },
  {
   "cell_type": "code",
   "execution_count": null,
   "metadata": {},
   "outputs": [],
   "source": [
    "############# plot multi e/gamma ROC #############\n",
    "fprs, tprs, thrs = multi_compute_roc(output_softmax, actual_labels, \n",
    "                                     true_label=label_dict[\"$e$\"], \n",
    "                                     false_label=label_dict[\"$\\gamma$\"])"
   ]
  },
  {
   "cell_type": "code",
   "execution_count": null,
   "metadata": {},
   "outputs": [],
   "source": [
    "figs = multi_plot_roc(fprs, tprs, thrs, \"$e$\", \"$\\gamma$\", \n",
    "                      fig_list=[1], xlims=[[0.2,1.0]],ylims=[[1e0,2e1]], \n",
    "                      linestyles=linestyle,linecolors=linecolor, \n",
    "                      plot_labels=titles, show=False)"
   ]
  },
  {
   "cell_type": "code",
   "execution_count": null,
   "metadata": {},
   "outputs": [],
   "source": [
    "############# plot multi e/mu ROC #############\n",
    "fprs, tprs, thrs = multi_compute_roc(output_softmax, actual_labels, \n",
    "                                     true_label=label_dict[\"$e$\"], \n",
    "                                     false_label=label_dict[\"$\\mu$\"])"
   ]
  },
  {
   "cell_type": "code",
   "execution_count": null,
   "metadata": {},
   "outputs": [],
   "source": [
    "figs = multi_plot_roc(fprs, tprs, thrs, \"$e$\", \"$\\mu$\", fig_list=[1], \n",
    "                      linestyles=linestyle,linecolors=linecolor, show=False)"
   ]
  },
  {
   "cell_type": "code",
   "execution_count": null,
   "metadata": {},
   "outputs": [],
   "source": [
    "############# plot collapsed ROC #############\n",
    "\"\"\"\n",
    "plot_list=[\"$e$\", \"$\\gamma$\"]\n",
    "vs_list=[\"$\\mu$\"]\n",
    "\"\"\"\n",
    "collapsed_class_scores_list, collapsed_class_labels_list = multi_collapse_test_output(output_softmax, actual_labels, label_dict, ignore_type='$\\gamma$')\n",
    "\n",
    "collapsed_class_labels_list = [collapsed_class_labels - 1 for collapsed_class_labels in collapsed_class_labels_list]\n",
    "collapsed_class_scores_list = [collapsed_class_scores[:,1:] for collapsed_class_scores in collapsed_class_scores_list]"
   ]
  },
  {
   "cell_type": "code",
   "execution_count": null,
   "metadata": {},
   "outputs": [],
   "source": [
    "muon_softmax_index_dict = {\"e/gamma\":0, \"mu\":1}\n",
    "\n",
    "fpr_list, tpr_list, thr_list = multi_compute_roc(collapsed_class_scores_list, collapsed_class_labels_list, \n",
    "                            true_label=muon_softmax_index_dict[\"e/gamma\"], \n",
    "                            false_label=muon_softmax_index_dict[\"mu\"])\n",
    "\n",
    "figs = multi_plot_roc(fpr_list, tpr_list, thr_list,\"e/gamma\", \"mu\", \n",
    "                      fig_list=[1], xlims=[[0.9,1.0]],ylims=[[1e1,5e3]], \n",
    "                      linestyles=linestyle,linecolors=linecolor, plot_labels=titles, show=False)"
   ]
  },
  {
   "cell_type": "code",
   "execution_count": null,
   "metadata": {},
   "outputs": [],
   "source": [
    "# Compute stddev\n",
    "from statistics import stdev\n",
    "\n",
    "sample_efficiencies = [0.90, 0.94, 0.98]\n",
    "def compute_stdevs(test_tpr_list, test_fpr_list, N, symbol):\n",
    "    rejections_list = [1.0/(fpr+1e-10) for fpr in test_fpr_list]\n",
    "\n",
    "    compute_indices_list = np.array([[np.argmin(abs(tpr - value)) for value in sample_efficiencies] for tpr in test_tpr_list])\n",
    "    #print(compute_indices_list)\n",
    "\n",
    "    test_sample_efficiencies = np.array([tpr[compute_indices] for tpr, compute_indices in zip(test_tpr_list, compute_indices_list)])\n",
    "    #print(test_sample_efficiencies)\n",
    "\n",
    "    rejections = np.array([rejections[compute_indices] for rejections, compute_indices in zip(rejections_list, compute_indices_list)])\n",
    "    #print(rejections)\n",
    "\n",
    "    stdevs  = [stdev(rejections[:, i]) for i in range(rejections.shape[1])]\n",
    "    d_stdevs = [std / np.sqrt(2*N) for std in stdevs]\n",
    "    #print(stdevs)\n",
    "\n",
    "    for std, sample_efficiency, d_stdev in zip(stdevs, sample_efficiencies, d_stdevs):\n",
    "        print(\"sample efficiency: \", sample_efficiency , \" σ: \", std, \" σ/sqrt(2{}): \".format(symbol), d_stdev)\n",
    "    \n",
    "    return stdevs, d_stdevs\n"
   ]
  },
  {
   "cell_type": "code",
   "execution_count": null,
   "metadata": {},
   "outputs": [],
   "source": [
    "#compute_stdevs(tpr_list, fpr_list, N = len(locs))"
   ]
  },
  {
   "cell_type": "code",
   "execution_count": null,
   "metadata": {},
   "outputs": [],
   "source": [
    "cap = len(mp_locs)\n",
    "print(\"There are \", cap, \"MP runs\")\n",
    "print(\"\\n MP runs:\")\n",
    "sigma_mp, d_sigma_mp = compute_stdevs(tpr_list[:cap], fpr_list[:cap], N = len(mp_locs), symbol=\"N\")\n",
    "\n",
    "print(\"\\npre-MP runs:\")\n",
    "sigma, d_sigma = compute_stdevs(tpr_list[cap:], fpr_list[cap:], N = len(new_locs), symbol=\"N\")"
   ]
  },
  {
   "cell_type": "code",
   "execution_count": null,
   "metadata": {},
   "outputs": [],
   "source": [
    "for sample_efficiency, std_1, d_stdev_1, std_2, d_stdev_2, in zip(sample_efficiencies, sigma_mp, d_sigma_mp, sigma, d_sigma):\n",
    "        diff = std_2 - std_1\n",
    "        sigma_diff = np.sqrt(d_stdev_1**2 + d_stdev_2**2)\n",
    "        print(\"sample efficiency: \", sample_efficiency , \" (σ - σ_MP): \", diff, \" σ_(σ - σ_MP): \", sigma_diff)"
   ]
  },
  {
   "cell_type": "code",
   "execution_count": null,
   "metadata": {},
   "outputs": [],
   "source": [
    "fig, ax = plt.subplots(figsize=(12,8),facecolor=\"w\")\n",
    "\n",
    "sample_efficiencies = [0.90, 0.94, 0.98]\n",
    "rejections_list = [1.0/(fpr+1e-10) for fpr in fpr_list]\n",
    "\n",
    "compute_indices_list = np.array([[np.argmin(abs(tpr - value)) for value in sample_efficiencies] for tpr in tpr_list])\n",
    "#print(compute_indices_list)\n",
    "\n",
    "test_sample_efficiencies = np.array([tpr[compute_indices] for tpr, compute_indices in zip(tpr_list, compute_indices_list)])\n",
    "#print(test_sample_efficiencies)\n",
    "\n",
    "rejections = np.array([rejections[compute_indices] for rejections, compute_indices in zip(rejections_list, compute_indices_list)])\n",
    "#print(rejections)\n",
    "\n",
    "for i in range(len(rejections)):\n",
    "    ax.scatter(np.array(sample_efficiencies), rejections[i], color=linecolor[i])\n",
    "ax.set_yscale('log')\n",
    "ax.grid(b=True, which='major', color='gray', linestyle='-')\n",
    "ax.grid(b=True, which='minor', color='gray', linestyle='--')\n",
    "ax.set_xlim(0.9,1.0)\n",
    "ax.set_ylim(1e1,5e3)\n",
    "\n",
    "plt.show()"
   ]
  },
  {
   "cell_type": "code",
   "execution_count": null,
   "metadata": {},
   "outputs": [],
   "source": []
  },
  {
   "cell_type": "code",
   "execution_count": null,
   "metadata": {},
   "outputs": [],
   "source": []
  },
  {
   "cell_type": "code",
   "execution_count": null,
   "metadata": {},
   "outputs": [],
   "source": []
  },
  {
   "cell_type": "code",
   "execution_count": null,
   "metadata": {},
   "outputs": [],
   "source": []
  },
  {
   "cell_type": "code",
   "execution_count": null,
   "metadata": {},
   "outputs": [],
   "source": []
  },
  {
   "cell_type": "code",
   "execution_count": null,
   "metadata": {},
   "outputs": [],
   "source": []
  }
 ],
 "metadata": {
  "kernelspec": {
   "display_name": "Python 3",
   "language": "python",
   "name": "python3"
  },
  "language_info": {
   "codemirror_mode": {
    "name": "ipython",
    "version": 3
   },
   "file_extension": ".py",
   "mimetype": "text/x-python",
   "name": "python",
   "nbconvert_exporter": "python",
   "pygments_lexer": "ipython3",
   "version": "3.6.10"
  }
 },
 "nbformat": 4,
 "nbformat_minor": 4
}
